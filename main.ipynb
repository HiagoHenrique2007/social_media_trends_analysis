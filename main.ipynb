{
 "cells": [
  {
   "cell_type": "code",
   "execution_count": null,
   "metadata": {},
   "outputs": [],
   "source": [
    "import pandas as pd\n",
    "import matplotlib.pyplot as plt\n",
    "\n",
    "social_media_trends_df = pd.read_csv('./database/Viral_Social_Media_Trends.csv')\n",
    "social_media_trends_df # all datas"
   ]
  },
  {
   "cell_type": "markdown",
   "metadata": {},
   "source": [
    "## dataframe overview"
   ]
  },
  {
   "cell_type": "code",
   "execution_count": null,
   "metadata": {},
   "outputs": [],
   "source": [
    "\n",
    "social_media_trends_df['Hashtag'].notna().sum() # quantos posts nao sao nulos na coluna hashtag\n",
    "social_media_trends_df['Engagement_Level'][ social_media_trends_df['Engagement_Level'] == 'High' ].shape # quantos posts tem o engajamento alto\n",
    "social_media_trends_df[['Hashtag', 'Platform']][(social_media_trends_df['Engagement_Level'] == 'High') & (social_media_trends_df['Platform'] == 'TikTok')].value_counts() # numero de hashtags com engajamento high na plataforma TikTok\n",
    "social_media_trends_df['Platform'].drop_duplicates() # plataformas"
   ]
  },
  {
   "cell_type": "markdown",
   "metadata": {},
   "source": [
    "## Criando graficos\n",
    "\n",
    "os graficos irão demonstrar as hashtags mais usadas e com alto engajamento em todas as plataformas"
   ]
  },
  {
   "cell_type": "code",
   "execution_count": null,
   "metadata": {},
   "outputs": [],
   "source": [
    "fig, axes = plt.subplots(1, 4, figsize=(12, 6))\n",
    "\n",
    "# TikTok\n",
    "axes[0].bar(x, y, label='TikTok')\n",
    "axes[0].set_title('')\n",
    "axes[0].set_xlabel('')\n",
    "axes[0].set_ylabel('')\n",
    "axes[0].legend()\n",
    "\n",
    "# Instagram\n",
    "axes[0].bar(x, y, label='Instagram')\n",
    "axes[0].set_title('')\n",
    "axes[0].set_xlabel('')\n",
    "axes[0].set_ylabel('')\n",
    "axes[0].legend()\n",
    "\n",
    "# Twitter\n",
    "axes[0].bar(x, y, label='Twitter')\n",
    "axes[0].set_title('')\n",
    "axes[0].set_xlabel('')\n",
    "axes[0].set_ylabel('')\n",
    "axes[0].legend()\n",
    "\n",
    "# YouTube\n",
    "youtube_df = social_media_trends_df[[ 'Platform', 'Hashtag' ]][ (social_media_trends_df['Platform'] == 'YouTube') & (social_media_trends_df['Engagement_Level'] == 'High' ) ]\n",
    "axes[0].bar(x, y, label='YouTube')\n",
    "axes[0].set_title('')\n",
    "axes[0].set_xlabel('')\n",
    "axes[0].set_ylabel('')\n",
    "axes[0].legend()\n",
    "\n",
    "\n",
    "plt.tight_layout()\n",
    "plt.show()\n"
   ]
  },
  {
   "cell_type": "code",
   "execution_count": 41,
   "metadata": {},
   "outputs": [
    {
     "data": {
      "text/plain": [
       "Hashtag\n",
       "#Education    55\n",
       "#Tech         50\n",
       "#Dance        48\n",
       "#Challenge    46\n",
       "#Comedy       46\n",
       "#Viral        45\n",
       "#Gaming       44\n",
       "#Music        40\n",
       "#Fashion      37\n",
       "#Fitness      34\n",
       "Name: count, dtype: int64"
      ]
     },
     "execution_count": 41,
     "metadata": {},
     "output_type": "execute_result"
    }
   ],
   "source": [
    "youtube_df = social_media_trends_df[[ 'Platform', 'Hashtag' ]][ (social_media_trends_df['Platform'] == 'YouTube') & (social_media_trends_df['Engagement_Level'] == 'High' ) ]\n",
    "youtube_df['Hashtag'].value_counts()"
   ]
  }
 ],
 "metadata": {
  "kernelspec": {
   "display_name": "Python 3",
   "language": "python",
   "name": "python3"
  },
  "language_info": {
   "codemirror_mode": {
    "name": "ipython",
    "version": 3
   },
   "file_extension": ".py",
   "mimetype": "text/x-python",
   "name": "python",
   "nbconvert_exporter": "python",
   "pygments_lexer": "ipython3",
   "version": "3.13.2"
  }
 },
 "nbformat": 4,
 "nbformat_minor": 2
}
